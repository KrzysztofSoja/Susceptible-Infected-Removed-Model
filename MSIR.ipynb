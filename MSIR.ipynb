{
 "cells": [
  {
   "cell_type": "code",
   "execution_count": 1,
   "metadata": {},
   "outputs": [],
   "source": [
    "import numpy as np\n",
    "import numba as nb\n",
    "import matplotlib.pyplot as plt\n",
    "import imageio\n",
    "\n",
    "from tqdm import tqdm\n",
    "from enum import IntEnum\n",
    "from typing import Tuple"
   ]
  },
  {
   "cell_type": "markdown",
   "metadata": {},
   "source": [
    "# Susceptible–Infected–Removed model"
   ]
  },
  {
   "cell_type": "code",
   "execution_count": 2,
   "metadata": {},
   "outputs": [],
   "source": [
    "class State(IntEnum):\n",
    "    SUSPECTIBLE = 0\n",
    "    INFECTED = 1\n",
    "    REMOVED = 2\n",
    "\n",
    "    \n",
    "class Population:\n",
    "    \n",
    "    def __init__(self, n: int, size_map: int, neighborhood_radius: int, \n",
    "                 propability_of_death: float, propability_of_contation: float):\n",
    "        self.n = n\n",
    "        self.size_map = size_map\n",
    "        self.neighborhood_radius = neighborhood_radius\n",
    "        self.propability_of_death = propability_of_death\n",
    "        self.propability_of_contation = propability_of_contation\n",
    "        \n",
    "        self.population = np.zeros((self.n), dtype=[('x', 'f8'), ('y', 'f8'), ('state', 'i4')])\n",
    "        self.population['x'] = np.random.random(self.n)*self.size_map\n",
    "        self.population['y'] = np.random.random(self.n)*self.size_map\n",
    "        self.population = np.sort(self.population, kind='mergesort', order='x')\n",
    "        \n",
    "    def gaussian_move(self):\n",
    "        self.population['x'] += np.random.randn(self.n)\n",
    "        self.population['y'] += np.random.randn(self.n) \n",
    "        \n",
    "        fmin = np.vectorize(lambda x: min(x, float(self.size_map)))\n",
    "        fmax = np.vectorize(lambda x: max(x, 0.))\n",
    "        \n",
    "        self.population['x'] = fmin(self.population['x'])\n",
    "        self.population['x'] = fmax(self.population['x'])\n",
    "        self.population['y'] = fmin(self.population['y'])\n",
    "        self.population['y'] = fmax(self.population['y'])\n",
    "        \n",
    "        self.population = np.sort(self.population, kind='mergesort', order='x')\n",
    "        \n",
    "    def seed_infected_people(self, n_infected):\n",
    "        indexes = np.random.choice(self.n, n_infected)\n",
    "        self.population['state'][indexes] = State.INFECTED\n",
    "       \n",
    "    def remove(self):\n",
    "        for man in self.population:\n",
    "            if man['state'] == State.INFECTED and np.random.rand() < self.propability_of_death:\n",
    "                man['state'] = State.REMOVED\n",
    "    \n",
    "    def infect(self):\n",
    "        @nb.njit\n",
    "        def numba_loop(table, infected_state, radius, propability_of_contation):\n",
    "            def norm(x1, y1, x2, y2):\n",
    "                return np.sqrt((x1 - x2)**2 + (y1 - y2)**2)\n",
    "            \n",
    "            for index, man in enumerate(table):\n",
    "                if man['state'] == infected_state:\n",
    "\n",
    "                    i = index + 1\n",
    "                    while(i < len(table) and \n",
    "                          table['x'][i] < man['x'] + radius):\n",
    "                        if(norm(table['x'][i], table['y'][i], man['x'], man['y']) < radius \n",
    "                           and np.random.rand() < propability_of_contation):\n",
    "                            table[i]['state'] = infected_state\n",
    "                        i += 1\n",
    "\n",
    "                    i = index - 1\n",
    "                    while(i >= 0 and \n",
    "                          table['x'][i] > man['x'] - radius):\n",
    "                        if(norm(table['x'][i], table['y'][i], man['x'], man['y']) < radius\n",
    "                           and np.random.rand() < propability_of_contation):\n",
    "                            table['state'][i] = infected_state\n",
    "                        i -= 1\n",
    "                        \n",
    "        numba_loop(self.population, State.INFECTED, self.neighborhood_radius, self.propability_of_contation)\n",
    "                     "
   ]
  },
  {
   "cell_type": "markdown",
   "metadata": {},
   "source": [
    "# Making animation of pandemic"
   ]
  },
  {
   "cell_type": "code",
   "execution_count": 4,
   "metadata": {},
   "outputs": [
    {
     "name": "stderr",
     "output_type": "stream",
     "text": [
      " 11%|█         | 11/100 [00:14<01:54,  1.28s/it]"
     ]
    }
   ],
   "source": [
    "test = Population(3_000, 100, 0.5, 0.10, 0.6)\n",
    "test.seed_infected_people(1)\n",
    "\n",
    "with imageio.get_writer('pandemic.gif', mode='I') as gif_maker:\n",
    "    for _ in tqdm(range(100)):\n",
    "        test.gaussian_move()\n",
    "        test.infect()\n",
    "        test.remove()\n",
    "\n",
    "        suspectible = test.population[test.population['state'] == State.SUSPECTIBLE]\n",
    "        infected = test.population[test.population['state'] == State.INFECTED]\n",
    "        removed = test.population[test.population['state'] == State.REMOVED]\n",
    "\n",
    "        plt.figure(figsize=(16, 16), dpi=80)\n",
    "        plt.scatter(suspectible['x'], suspectible['y'], c='b')\n",
    "        plt.scatter(infected['x'], infected['y'], c='r')\n",
    "        plt.scatter(removed['x'], removed['y'], c='black')\n",
    "        plt.axis('off')\n",
    "        plt.savefig('pandemic_step.png', bbox_inches='tight')\n",
    "        plt.close()\n",
    "        \n",
    "        image = imageio.imread('pandemic_step.png')\n",
    "        gif_maker.append_data(image)\n",
    "\n",
    "        if len(infected) == 0:\n",
    "            break\n"
   ]
  },
  {
   "cell_type": "code",
   "execution_count": null,
   "metadata": {},
   "outputs": [],
   "source": []
  },
  {
   "cell_type": "code",
   "execution_count": null,
   "metadata": {},
   "outputs": [],
   "source": []
  }
 ],
 "metadata": {
  "kernelspec": {
   "display_name": "Python 3",
   "language": "python",
   "name": "python3"
  },
  "language_info": {
   "codemirror_mode": {
    "name": "ipython",
    "version": 3
   },
   "file_extension": ".py",
   "mimetype": "text/x-python",
   "name": "python",
   "nbconvert_exporter": "python",
   "pygments_lexer": "ipython3",
   "version": "3.7.3"
  }
 },
 "nbformat": 4,
 "nbformat_minor": 2
}
