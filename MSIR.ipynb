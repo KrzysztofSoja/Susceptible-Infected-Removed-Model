{
 "cells": [
  {
   "cell_type": "code",
   "execution_count": 1,
   "metadata": {},
   "outputs": [],
   "source": [
    "import os\n",
    "import numpy as np\n",
    "import numba as nb\n",
    "import matplotlib.pyplot as plt\n",
    "import cv2\n",
    "\n",
    "\n",
    "from tqdm import tqdm\n",
    "from enum import IntEnum\n",
    "from typing import Tuple\n",
    "from IPython.display import Video"
   ]
  },
  {
   "cell_type": "markdown",
   "metadata": {},
   "source": [
    "# Susceptible–Infected–Removed model\n",
    "\n",
    "This model is simple simulation of pandemic. In this simulation we have three type of people: susceptible - it's person who can be infected, infected and removed, who represent dead or cured unit.\n",
    "\n",
    "Infected person can infect other susceptible people in neighborhood radius with some probability (in code it calls probability of contagion). In every move every infected unit can be change our state to removed with some probability (in code it calls probability of death).\n",
    "\n",
    "In simulation every unit make Brownian motion (https://en.wikipedia.org/wiki/Brownian_motion) in every step. "
   ]
  },
  {
   "cell_type": "code",
   "execution_count": 2,
   "metadata": {},
   "outputs": [],
   "source": [
    "class State(IntEnum):\n",
    "    SUSPECTIBLE = 0\n",
    "    INFECTED = 1\n",
    "    REMOVED = 2\n",
    "\n",
    "    \n",
    "class Population:\n",
    "    \n",
    "    def __init__(self, n: int, size_map: int, neighborhood_radius: int, \n",
    "                 propability_of_death: float, propability_of_contation: float):\n",
    "        self.n = n\n",
    "        self.size_map = size_map\n",
    "        self.neighborhood_radius = neighborhood_radius\n",
    "        self.propability_of_death = propability_of_death\n",
    "        self.propability_of_contagion= propability_of_contation\n",
    "        \n",
    "        self.population = np.zeros((self.n), dtype=[('x', 'f8'), ('y', 'f8'), ('state', 'i4')])\n",
    "        self.population['x'] = np.random.random(self.n)*self.size_map\n",
    "        self.population['y'] = np.random.random(self.n)*self.size_map\n",
    "        self.population = np.sort(self.population, kind='mergesort', order='x')\n",
    "        \n",
    "    def gaussian_move(self):\n",
    "        self.population['x'] += np.random.randn(self.n)\n",
    "        self.population['y'] += np.random.randn(self.n) \n",
    "        \n",
    "        fmin = np.vectorize(lambda x: min(x, float(self.size_map)))\n",
    "        fmax = np.vectorize(lambda x: max(x, 0.))\n",
    "        \n",
    "        self.population['x'] = fmin(self.population['x'])\n",
    "        self.population['x'] = fmax(self.population['x'])\n",
    "        self.population['y'] = fmin(self.population['y'])\n",
    "        self.population['y'] = fmax(self.population['y'])\n",
    "        \n",
    "        self.population = np.sort(self.population, kind='mergesort', order='x')\n",
    "        \n",
    "    def seed_infected_people(self, n_infected):\n",
    "        indexes = np.random.choice(self.n, n_infected)\n",
    "        self.population['state'][indexes] = State.INFECTED\n",
    "       \n",
    "    def remove(self):\n",
    "        for man in self.population:\n",
    "            if man['state'] == State.INFECTED and np.random.rand() < self.propability_of_death:\n",
    "                man['state'] = State.REMOVED\n",
    "    \n",
    "    def infect(self):\n",
    "        @nb.njit\n",
    "        def numba_loop(table, infected_state, radius, propability_of_contagion):\n",
    "            def norm(x1, y1, x2, y2):\n",
    "                return np.sqrt((x1 - x2)**2 + (y1 - y2)**2)\n",
    "            \n",
    "            for index, man in enumerate(table):\n",
    "                if man['state'] == infected_state:\n",
    "\n",
    "                    i = index + 1\n",
    "                    while(i < len(table) and \n",
    "                          table['x'][i] < man['x'] + radius):\n",
    "                        if(norm(table['x'][i], table['y'][i], man['x'], man['y']) < radius \n",
    "                           and np.random.rand() < propability_of_contagion):\n",
    "                            table[i]['state'] = infected_state\n",
    "                        i += 1\n",
    "\n",
    "                    i = index - 1\n",
    "                    while(i >= 0 and \n",
    "                          table['x'][i] > man['x'] - radius):\n",
    "                        if(norm(table['x'][i], table['y'][i], man['x'], man['y']) < radius\n",
    "                           and np.random.rand() < propability_of_contagion):\n",
    "                            table['state'][i] = infected_state\n",
    "                        i -= 1\n",
    "                        \n",
    "        numba_loop(self.population, State.INFECTED, self.neighborhood_radius, self.propability_of_contagion)\n",
    "                     \n",
    "            \n",
    "class Simulation():\n",
    "\n",
    "    def __init__(self, population: Population):\n",
    "        self.population = population\n",
    "        \n",
    "    def make_step_in_simulation(self):\n",
    "        self.population.gaussian_move()\n",
    "        self.population.infect()\n",
    "        self.population.remove()\n",
    "        \n",
    "    def get_SIR_group(self) -> Tuple[np.array, np.array, np.array]:\n",
    "        suspectible = self.population.population[ \\\n",
    "                          self.population.population['state'] == State.SUSPECTIBLE]\n",
    "        infected = self.population.population[ \\\n",
    "                          self.population.population['state'] == State.INFECTED]\n",
    "        removed = self.population.population[ \\\n",
    "                          self.population.population['state'] == State.REMOVED]\n",
    "        return suspectible, infected, removed"
   ]
  },
  {
   "cell_type": "markdown",
   "metadata": {},
   "source": [
    "## Making animation of pandemic\n",
    "\n",
    "In simulation blue dot reprezent suspectible unit, red - infected unit and black removed unit."
   ]
  },
  {
   "cell_type": "code",
   "execution_count": 3,
   "metadata": {},
   "outputs": [],
   "source": [
    "\n",
    "class VideoMaker():\n",
    "    \n",
    "    def __init__(self, simulation: Simulation):\n",
    "        self.simulation = simulation\n",
    "        \n",
    "    def _make_step_image(self):\n",
    "        suspectible, infected, removed = self.simulation.get_SIR_group()\n",
    "        \n",
    "        plt.figure(figsize=(16, 16), dpi=80)\n",
    "        plt.scatter(suspectible['x'], suspectible['y'], c='b')\n",
    "        plt.scatter(infected['x'], infected['y'], c='r')\n",
    "        plt.scatter(removed['x'], removed['y'], c='black')\n",
    "        plt.axis('off')\n",
    "        plt.savefig('pandemic_step.png', bbox_inches='tight')\n",
    "        plt.close()\n",
    "        \n",
    "    def _get_next_image(self) -> np.array:\n",
    "        self._make_step_image()\n",
    "        image = cv2.imread('pandemic_step.png')\n",
    "        image = cv2.resize(image, (1000, 1000)) \n",
    "        return image\n",
    "        \n",
    "    def make_movie(self, step: int):\n",
    "        image = self._get_next_image()\n",
    "        width, height, _ = image.shape\n",
    "                \n",
    "        fourcc = cv2.VideoWriter_fourcc(*'mp4v')\n",
    "        movie = cv2.VideoWriter('simulation.mp4', fourcc, 16.0, (width, height))\n",
    "        \n",
    "        for _ in tqdm(range(step), desc=\"Making video in progress:\"):\n",
    "            movie.write(image)\n",
    "            \n",
    "            if self.simulation.make_step_in_simulation() == 'Done':\n",
    "                break\n",
    "            else:\n",
    "                image = self._get_next_image()\n",
    "        movie.release()\n"
   ]
  },
  {
   "cell_type": "markdown",
   "metadata": {},
   "source": [
    "## Let's run it together"
   ]
  },
  {
   "cell_type": "code",
   "execution_count": 4,
   "metadata": {},
   "outputs": [
    {
     "name": "stderr",
     "output_type": "stream",
     "text": [
      "Making video in progress:: 100%|██████████| 100/100 [01:22<00:00,  1.21it/s]\n"
     ]
    }
   ],
   "source": [
    "population = Population(3_000, 100, 1, 0.10, 0.9)\n",
    "population.seed_infected_people(1)\n",
    "\n",
    "simulation = Simulation(population)\n",
    "\n",
    "video_maker = VideoMaker(simulation)\n",
    "video_maker.make_movie(100)"
   ]
  },
  {
   "cell_type": "code",
   "execution_count": null,
   "metadata": {},
   "outputs": [],
   "source": []
  }
 ],
 "metadata": {
  "kernelspec": {
   "display_name": "Python 3",
   "language": "python",
   "name": "python3"
  },
  "language_info": {
   "codemirror_mode": {
    "name": "ipython",
    "version": 3
   },
   "file_extension": ".py",
   "mimetype": "text/x-python",
   "name": "python",
   "nbconvert_exporter": "python",
   "pygments_lexer": "ipython3",
   "version": "3.7.3"
  }
 },
 "nbformat": 4,
 "nbformat_minor": 2
}
